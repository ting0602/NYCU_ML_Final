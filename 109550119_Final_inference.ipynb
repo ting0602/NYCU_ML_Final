{
 "cells": [
  {
   "cell_type": "code",
   "execution_count": 58,
   "id": "387dd7be",
   "metadata": {
    "_cell_guid": "b1076dfc-b9ad-4769-8c92-a6c4dae69d19",
    "_uuid": "8f2839f25d086af736a60e9eeb907d3b93b6e0e5",
    "execution": {
     "iopub.execute_input": "2022-09-01T00:05:46.694503Z",
     "iopub.status.busy": "2022-09-01T00:05:46.693906Z",
     "iopub.status.idle": "2022-09-01T00:05:49.134311Z",
     "shell.execute_reply": "2022-09-01T00:05:49.133250Z"
    },
    "papermill": {
     "duration": 2.453915,
     "end_time": "2022-09-01T00:05:49.137496",
     "exception": false,
     "start_time": "2022-09-01T00:05:46.683581",
     "status": "completed"
    },
    "tags": []
   },
   "outputs": [],
   "source": [
    "import numpy as np\n",
    "import pandas as pd\n",
    "import warnings\n",
    "from IPython.display import display\n",
    "import matplotlib.pyplot as plt\n",
    "import seaborn as sns\n",
    "from colorama import Fore, Back, Style\n",
    "from sklearn.preprocessing import StandardScaler\n",
    "import itertools\n",
    "from collections import defaultdict\n",
    "from sklearn.impute import KNNImputer\n",
    "from sklearn.linear_model import LogisticRegression, HuberRegressor\n",
    "import lightgbm as lgb\n",
    "from lightgbm import LGBMClassifier, early_stopping, log_evaluation\n",
    "from sklearn.model_selection import StratifiedKFold, GroupKFold, train_test_split\n",
    "from sklearn.metrics import roc_auc_score, accuracy_score\n",
    "from scipy.stats import pearsonr, spearmanr, rankdata\n",
    "from imblearn.over_sampling import SMOTE, BorderlineSMOTE\n",
    "import pickle\n",
    "\n",
    "warnings.filterwarnings('ignore')\n",
    "pd.set_option('display.max_columns', None)\n",
    "pd.set_option('display.max_rows', None)"
   ]
  },
  {
   "attachments": {},
   "cell_type": "markdown",
   "id": "3eb5575c",
   "metadata": {},
   "source": [
    "# Load data"
   ]
  },
  {
   "attachments": {},
   "cell_type": "markdown",
   "id": "0032e354",
   "metadata": {},
   "source": [
    "* _scale(): 對 data 的 features 進行標準化"
   ]
  },
  {
   "cell_type": "code",
   "execution_count": 59,
   "id": "9065f6dd",
   "metadata": {
    "execution": {
     "iopub.execute_input": "2022-09-01T00:06:02.288546Z",
     "iopub.status.busy": "2022-09-01T00:06:02.287825Z",
     "iopub.status.idle": "2022-09-01T00:06:02.296196Z",
     "shell.execute_reply": "2022-09-01T00:06:02.295159Z"
    },
    "papermill": {
     "duration": 0.020582,
     "end_time": "2022-09-01T00:06:02.298803",
     "exception": false,
     "start_time": "2022-09-01T00:06:02.278221",
     "status": "completed"
    },
    "tags": []
   },
   "outputs": [],
   "source": [
    "def _scale(train_data, val_data, test_data, feats):\n",
    "    scaler = StandardScaler()\n",
    "    \n",
    "    scaled_train = scaler.fit_transform(train_data[feats])\n",
    "    scaled_val = scaler.transform(val_data[feats])\n",
    "    scaled_test = scaler.transform(test_data[feats])\n",
    "    \n",
    "    # back to dataframe\n",
    "    new_train = train_data.copy()\n",
    "    new_val = val_data.copy()\n",
    "    new_test = test_data.copy()\n",
    "    \n",
    "    new_train[feats] = scaled_train\n",
    "    new_val[feats] = scaled_val\n",
    "    new_test[feats] = scaled_test\n",
    "    \n",
    "    return new_train, new_val, new_test"
   ]
  },
  {
   "cell_type": "code",
   "execution_count": 60,
   "id": "97328034",
   "metadata": {
    "execution": {
     "iopub.execute_input": "2022-09-01T00:06:02.355693Z",
     "iopub.status.busy": "2022-09-01T00:06:02.355277Z",
     "iopub.status.idle": "2022-09-01T00:06:02.370452Z",
     "shell.execute_reply": "2022-09-01T00:06:02.369227Z"
    },
    "papermill": {
     "duration": 0.026817,
     "end_time": "2022-09-01T00:06:02.373141",
     "exception": false,
     "start_time": "2022-09-01T00:06:02.346324",
     "status": "completed"
    },
    "tags": []
   },
   "outputs": [],
   "source": [
    "train = pd.read_csv('./input/new_train.csv')\n",
    "test = pd.read_csv('./input/new_test.csv')\n",
    "submission = pd.read_csv('./input/sample_submission.csv')\n",
    "\n",
    "X = train.drop(['id','failure','product_code','attribute_0','attribute_1'],axis=1)\n",
    "y = train['failure'].astype(int)"
   ]
  },
  {
   "attachments": {},
   "cell_type": "markdown",
   "id": "d904b000",
   "metadata": {},
   "source": [
    "## 選擇不同組合的 feature，最後給予不同權重算出 failure"
   ]
  },
  {
   "attachments": {},
   "cell_type": "markdown",
   "id": "0ed27874",
   "metadata": {},
   "source": [
    "* 選擇 feature "
   ]
  },
  {
   "cell_type": "code",
   "execution_count": 61,
   "id": "168c3018",
   "metadata": {
    "execution": {
     "iopub.execute_input": "2022-09-01T00:06:02.390577Z",
     "iopub.status.busy": "2022-09-01T00:06:02.389701Z",
     "iopub.status.idle": "2022-09-01T00:06:02.395457Z",
     "shell.execute_reply": "2022-09-01T00:06:02.394496Z"
    },
    "papermill": {
     "duration": 0.017336,
     "end_time": "2022-09-01T00:06:02.398081",
     "exception": false,
     "start_time": "2022-09-01T00:06:02.380745",
     "status": "completed"
    },
    "tags": []
   },
   "outputs": [],
   "source": [
    "select_feature = ['m3_missing', 'm5_missing', 'measurement_1', 'measurement_2', 'loading', 'measurement_17']"
   ]
  },
  {
   "attachments": {},
   "cell_type": "markdown",
   "id": "6e04f8c1",
   "metadata": {},
   "source": [
    "* Cross-Validation (K-fold)"
   ]
  },
  {
   "cell_type": "code",
   "execution_count": 62,
   "id": "04a1d776",
   "metadata": {
    "execution": {
     "iopub.execute_input": "2022-09-01T00:06:02.415707Z",
     "iopub.status.busy": "2022-09-01T00:06:02.414950Z",
     "iopub.status.idle": "2022-09-01T00:06:03.478607Z",
     "shell.execute_reply": "2022-09-01T00:06:03.477685Z"
    },
    "papermill": {
     "duration": 1.075017,
     "end_time": "2022-09-01T00:06:03.480765",
     "exception": false,
     "start_time": "2022-09-01T00:06:02.405748",
     "status": "completed"
    },
    "tags": []
   },
   "outputs": [],
   "source": [
    "lr_test = np.zeros(len(test))\n",
    "model_list = ['./models/model1-1.pkl', './models/model1-2.pkl', './models/model1-3.pkl', './models/model1-4.pkl','./models/model1-5.pkl']\n",
    "\n",
    "kf = StratifiedKFold(n_splits=5, shuffle=True, random_state=0)\n",
    "for fold_idx, (train_idx, val_idx) in enumerate(kf.split(X, y)):\n",
    "    x_train, x_val = X.iloc[train_idx], X.iloc[val_idx]\n",
    "    y_train, y_val = y.iloc[train_idx], y.iloc[val_idx]\n",
    "    x_test = test.copy()\n",
    "    x_train, x_val, x_test = _scale(x_train, x_val, x_test, select_feature)\n",
    "    \n",
    "    with open(model_list[fold_idx], 'rb') as f:\n",
    "        model = pickle.load(f)\n",
    "    lr_test += model.predict_proba(x_test[select_feature])[:, 1] / 5"
   ]
  },
  {
   "cell_type": "code",
   "execution_count": 63,
   "id": "8bd9e6ea",
   "metadata": {
    "execution": {
     "iopub.execute_input": "2022-09-01T00:06:03.499752Z",
     "iopub.status.busy": "2022-09-01T00:06:03.499056Z",
     "iopub.status.idle": "2022-09-01T00:06:03.504164Z",
     "shell.execute_reply": "2022-09-01T00:06:03.503350Z"
    },
    "papermill": {
     "duration": 0.01715,
     "end_time": "2022-09-01T00:06:03.506283",
     "exception": false,
     "start_time": "2022-09-01T00:06:03.489133",
     "status": "completed"
    },
    "tags": []
   },
   "outputs": [],
   "source": [
    "submission['lr0'] = lr_test"
   ]
  },
  {
   "cell_type": "code",
   "execution_count": 64,
   "id": "d783a67e",
   "metadata": {
    "execution": {
     "iopub.execute_input": "2022-09-01T00:06:03.524776Z",
     "iopub.status.busy": "2022-09-01T00:06:03.524066Z",
     "iopub.status.idle": "2022-09-01T00:06:03.528491Z",
     "shell.execute_reply": "2022-09-01T00:06:03.527620Z"
    },
    "papermill": {
     "duration": 0.016248,
     "end_time": "2022-09-01T00:06:03.530618",
     "exception": false,
     "start_time": "2022-09-01T00:06:03.514370",
     "status": "completed"
    },
    "tags": []
   },
   "outputs": [],
   "source": [
    "select_feature = ['measurement_1', 'measurement_2', 'loading', 'measurement_17']"
   ]
  },
  {
   "cell_type": "code",
   "execution_count": 65,
   "id": "cf9aa870",
   "metadata": {
    "execution": {
     "iopub.execute_input": "2022-09-01T00:06:03.548993Z",
     "iopub.status.busy": "2022-09-01T00:06:03.548315Z",
     "iopub.status.idle": "2022-09-01T00:06:04.351540Z",
     "shell.execute_reply": "2022-09-01T00:06:04.350762Z"
    },
    "papermill": {
     "duration": 0.815872,
     "end_time": "2022-09-01T00:06:04.354669",
     "exception": false,
     "start_time": "2022-09-01T00:06:03.538797",
     "status": "completed"
    },
    "tags": []
   },
   "outputs": [],
   "source": [
    "lr_test = np.zeros(len(test))\n",
    "model_list = ['./models/model2-1.pkl', './models/model2-2.pkl', './models/model2-3.pkl', './models/model2-4.pkl','./models/model2-5.pkl']\n",
    "\n",
    "kf = StratifiedKFold(n_splits=5, shuffle=True, random_state=0)\n",
    "for fold_idx, (train_idx, val_idx) in enumerate(kf.split(X, y)):\n",
    "    x_train, x_val = X.iloc[train_idx], X.iloc[val_idx]\n",
    "    y_train, y_val = y.iloc[train_idx], y.iloc[val_idx]\n",
    "    x_test = test.copy()\n",
    "    x_train, x_val, x_test = _scale(x_train, x_val, x_test, select_feature)\n",
    "    \n",
    "    with open(model_list[fold_idx], 'rb') as f:\n",
    "        model = pickle.load(f)\n",
    "    lr_test += model.predict_proba(x_test[select_feature])[:, 1] / 5"
   ]
  },
  {
   "cell_type": "code",
   "execution_count": 66,
   "id": "ca426bad",
   "metadata": {
    "execution": {
     "iopub.execute_input": "2022-09-01T00:06:04.374381Z",
     "iopub.status.busy": "2022-09-01T00:06:04.373783Z",
     "iopub.status.idle": "2022-09-01T00:06:04.379533Z",
     "shell.execute_reply": "2022-09-01T00:06:04.378313Z"
    },
    "papermill": {
     "duration": 0.018855,
     "end_time": "2022-09-01T00:06:04.382098",
     "exception": false,
     "start_time": "2022-09-01T00:06:04.363243",
     "status": "completed"
    },
    "tags": []
   },
   "outputs": [],
   "source": [
    "submission['lr1'] = lr_test"
   ]
  },
  {
   "cell_type": "code",
   "execution_count": 67,
   "id": "d783a67e",
   "metadata": {
    "execution": {
     "iopub.execute_input": "2022-09-01T00:06:03.524776Z",
     "iopub.status.busy": "2022-09-01T00:06:03.524066Z",
     "iopub.status.idle": "2022-09-01T00:06:03.528491Z",
     "shell.execute_reply": "2022-09-01T00:06:03.527620Z"
    },
    "papermill": {
     "duration": 0.016248,
     "end_time": "2022-09-01T00:06:03.530618",
     "exception": false,
     "start_time": "2022-09-01T00:06:03.514370",
     "status": "completed"
    },
    "tags": []
   },
   "outputs": [],
   "source": [
    "select_feature = ['loading', 'measurement_17', 'm3_17_avg']"
   ]
  },
  {
   "cell_type": "code",
   "execution_count": 68,
   "id": "5d2cb7eb",
   "metadata": {
    "execution": {
     "iopub.execute_input": "2022-09-01T00:06:05.557286Z",
     "iopub.status.busy": "2022-09-01T00:06:05.556879Z",
     "iopub.status.idle": "2022-09-01T00:06:06.381395Z",
     "shell.execute_reply": "2022-09-01T00:06:06.380512Z"
    },
    "papermill": {
     "duration": 0.83769,
     "end_time": "2022-09-01T00:06:06.383737",
     "exception": false,
     "start_time": "2022-09-01T00:06:05.546047",
     "status": "completed"
    },
    "tags": []
   },
   "outputs": [],
   "source": [
    "lr_test = np.zeros(len(test))\n",
    "model_list = ['./models/model3-1.pkl', './models/model3-2.pkl', './models/model3-3.pkl', './models/model3-4.pkl','./models/model3-5.pkl']\n",
    "\n",
    "kf = StratifiedKFold(n_splits=5, shuffle=True, random_state=0)\n",
    "for fold_idx, (train_idx, val_idx) in enumerate(kf.split(X, y)):\n",
    "    x_train, x_val = X.iloc[train_idx], X.iloc[val_idx]\n",
    "    y_train, y_val = y.iloc[train_idx], y.iloc[val_idx]\n",
    "    x_test = test.copy()\n",
    "    \n",
    "    x_train, x_val, x_test = _scale(x_train, x_val, x_test, select_feature)\n",
    "    with open(model_list[fold_idx], 'rb') as f:\n",
    "        model = pickle.load(f)\n",
    "    lr_test += model.predict_proba(x_test[select_feature])[:, 1] / 5"
   ]
  },
  {
   "cell_type": "code",
   "execution_count": 69,
   "id": "409accbd",
   "metadata": {
    "execution": {
     "iopub.execute_input": "2022-09-01T00:06:06.405341Z",
     "iopub.status.busy": "2022-09-01T00:06:06.404339Z",
     "iopub.status.idle": "2022-09-01T00:06:06.409703Z",
     "shell.execute_reply": "2022-09-01T00:06:06.408817Z"
    },
    "papermill": {
     "duration": 0.018499,
     "end_time": "2022-09-01T00:06:06.411912",
     "exception": false,
     "start_time": "2022-09-01T00:06:06.393413",
     "status": "completed"
    },
    "tags": []
   },
   "outputs": [],
   "source": [
    "submission['lr2'] = lr_test"
   ]
  },
  {
   "cell_type": "code",
   "execution_count": 70,
   "id": "8b11a56f",
   "metadata": {
    "execution": {
     "iopub.execute_input": "2022-09-01T00:06:06.433911Z",
     "iopub.status.busy": "2022-09-01T00:06:06.433490Z",
     "iopub.status.idle": "2022-09-01T00:06:06.447312Z",
     "shell.execute_reply": "2022-09-01T00:06:06.446163Z"
    },
    "papermill": {
     "duration": 0.027647,
     "end_time": "2022-09-01T00:06:06.449755",
     "exception": false,
     "start_time": "2022-09-01T00:06:06.422108",
     "status": "completed"
    },
    "tags": []
   },
   "outputs": [
    {
     "data": {
      "text/html": [
       "<div>\n",
       "<style scoped>\n",
       "    .dataframe tbody tr th:only-of-type {\n",
       "        vertical-align: middle;\n",
       "    }\n",
       "\n",
       "    .dataframe tbody tr th {\n",
       "        vertical-align: top;\n",
       "    }\n",
       "\n",
       "    .dataframe thead th {\n",
       "        text-align: right;\n",
       "    }\n",
       "</style>\n",
       "<table border=\"1\" class=\"dataframe\">\n",
       "  <thead>\n",
       "    <tr style=\"text-align: right;\">\n",
       "      <th></th>\n",
       "      <th>id</th>\n",
       "      <th>failure</th>\n",
       "      <th>lr0</th>\n",
       "      <th>lr1</th>\n",
       "      <th>lr2</th>\n",
       "    </tr>\n",
       "  </thead>\n",
       "  <tbody>\n",
       "    <tr>\n",
       "      <th>0</th>\n",
       "      <td>26570</td>\n",
       "      <td>0.0</td>\n",
       "      <td>0.208906</td>\n",
       "      <td>0.208996</td>\n",
       "      <td>0.208252</td>\n",
       "    </tr>\n",
       "    <tr>\n",
       "      <th>1</th>\n",
       "      <td>26571</td>\n",
       "      <td>0.0</td>\n",
       "      <td>0.201129</td>\n",
       "      <td>0.201224</td>\n",
       "      <td>0.201619</td>\n",
       "    </tr>\n",
       "    <tr>\n",
       "      <th>2</th>\n",
       "      <td>26572</td>\n",
       "      <td>0.0</td>\n",
       "      <td>0.204884</td>\n",
       "      <td>0.204971</td>\n",
       "      <td>0.206438</td>\n",
       "    </tr>\n",
       "    <tr>\n",
       "      <th>3</th>\n",
       "      <td>26573</td>\n",
       "      <td>0.0</td>\n",
       "      <td>0.206612</td>\n",
       "      <td>0.206694</td>\n",
       "      <td>0.203775</td>\n",
       "    </tr>\n",
       "    <tr>\n",
       "      <th>4</th>\n",
       "      <td>26574</td>\n",
       "      <td>0.0</td>\n",
       "      <td>0.239220</td>\n",
       "      <td>0.239314</td>\n",
       "      <td>0.242482</td>\n",
       "    </tr>\n",
       "  </tbody>\n",
       "</table>\n",
       "</div>"
      ],
      "text/plain": [
       "      id  failure       lr0       lr1       lr2\n",
       "0  26570      0.0  0.208906  0.208996  0.208252\n",
       "1  26571      0.0  0.201129  0.201224  0.201619\n",
       "2  26572      0.0  0.204884  0.204971  0.206438\n",
       "3  26573      0.0  0.206612  0.206694  0.203775\n",
       "4  26574      0.0  0.239220  0.239314  0.242482"
      ]
     },
     "execution_count": 70,
     "metadata": {},
     "output_type": "execute_result"
    }
   ],
   "source": [
    "submission.head()"
   ]
  },
  {
   "cell_type": "code",
   "execution_count": 71,
   "id": "8e2a86a2",
   "metadata": {
    "execution": {
     "iopub.execute_input": "2022-09-01T00:06:06.471284Z",
     "iopub.status.busy": "2022-09-01T00:06:06.470864Z",
     "iopub.status.idle": "2022-09-01T00:06:06.490238Z",
     "shell.execute_reply": "2022-09-01T00:06:06.488930Z"
    },
    "papermill": {
     "duration": 0.033272,
     "end_time": "2022-09-01T00:06:06.492898",
     "exception": false,
     "start_time": "2022-09-01T00:06:06.459626",
     "status": "completed"
    },
    "tags": []
   },
   "outputs": [],
   "source": [
    "submission['rank0'] = rankdata(submission['lr0'])\n",
    "submission['rank1'] = rankdata(submission['lr1'])\n",
    "submission['rank2'] = rankdata(submission['lr2'])"
   ]
  },
  {
   "cell_type": "code",
   "execution_count": 72,
   "id": "d5cceb2a",
   "metadata": {
    "execution": {
     "iopub.execute_input": "2022-09-01T00:06:06.514669Z",
     "iopub.status.busy": "2022-09-01T00:06:06.514249Z",
     "iopub.status.idle": "2022-09-01T00:06:06.523853Z",
     "shell.execute_reply": "2022-09-01T00:06:06.522579Z"
    },
    "papermill": {
     "duration": 0.023391,
     "end_time": "2022-09-01T00:06:06.526429",
     "exception": false,
     "start_time": "2022-09-01T00:06:06.503038",
     "status": "completed"
    },
    "tags": []
   },
   "outputs": [],
   "source": [
    "submission['failure'] = submission['rank0']*0.70 + submission['rank1']*0.05 + submission['rank2']*0.30"
   ]
  },
  {
   "cell_type": "code",
   "execution_count": 73,
   "id": "23374530",
   "metadata": {
    "execution": {
     "iopub.execute_input": "2022-09-01T00:06:06.548814Z",
     "iopub.status.busy": "2022-09-01T00:06:06.547550Z",
     "iopub.status.idle": "2022-09-01T00:06:06.565914Z",
     "shell.execute_reply": "2022-09-01T00:06:06.564795Z"
    },
    "papermill": {
     "duration": 0.031762,
     "end_time": "2022-09-01T00:06:06.568231",
     "exception": false,
     "start_time": "2022-09-01T00:06:06.536469",
     "status": "completed"
    },
    "tags": []
   },
   "outputs": [
    {
     "data": {
      "text/html": [
       "<div>\n",
       "<style scoped>\n",
       "    .dataframe tbody tr th:only-of-type {\n",
       "        vertical-align: middle;\n",
       "    }\n",
       "\n",
       "    .dataframe tbody tr th {\n",
       "        vertical-align: top;\n",
       "    }\n",
       "\n",
       "    .dataframe thead th {\n",
       "        text-align: right;\n",
       "    }\n",
       "</style>\n",
       "<table border=\"1\" class=\"dataframe\">\n",
       "  <thead>\n",
       "    <tr style=\"text-align: right;\">\n",
       "      <th></th>\n",
       "      <th>id</th>\n",
       "      <th>failure</th>\n",
       "      <th>lr0</th>\n",
       "      <th>lr1</th>\n",
       "      <th>lr2</th>\n",
       "      <th>rank0</th>\n",
       "      <th>rank1</th>\n",
       "      <th>rank2</th>\n",
       "    </tr>\n",
       "  </thead>\n",
       "  <tbody>\n",
       "    <tr>\n",
       "      <th>0</th>\n",
       "      <td>26570</td>\n",
       "      <td>9014.85</td>\n",
       "      <td>0.208906</td>\n",
       "      <td>0.208996</td>\n",
       "      <td>0.208252</td>\n",
       "      <td>8721.0</td>\n",
       "      <td>8715.0</td>\n",
       "      <td>8248.0</td>\n",
       "    </tr>\n",
       "    <tr>\n",
       "      <th>1</th>\n",
       "      <td>26571</td>\n",
       "      <td>4998.65</td>\n",
       "      <td>0.201129</td>\n",
       "      <td>0.201224</td>\n",
       "      <td>0.201619</td>\n",
       "      <td>4711.0</td>\n",
       "      <td>4685.0</td>\n",
       "      <td>4889.0</td>\n",
       "    </tr>\n",
       "    <tr>\n",
       "      <th>2</th>\n",
       "      <td>26572</td>\n",
       "      <td>7067.90</td>\n",
       "      <td>0.204884</td>\n",
       "      <td>0.204971</td>\n",
       "      <td>0.206438</td>\n",
       "      <td>6523.0</td>\n",
       "      <td>6500.0</td>\n",
       "      <td>7256.0</td>\n",
       "    </tr>\n",
       "    <tr>\n",
       "      <th>3</th>\n",
       "      <td>26573</td>\n",
       "      <td>7376.15</td>\n",
       "      <td>0.206612</td>\n",
       "      <td>0.206694</td>\n",
       "      <td>0.203775</td>\n",
       "      <td>7457.0</td>\n",
       "      <td>7431.0</td>\n",
       "      <td>5949.0</td>\n",
       "    </tr>\n",
       "    <tr>\n",
       "      <th>4</th>\n",
       "      <td>26574</td>\n",
       "      <td>21084.90</td>\n",
       "      <td>0.239220</td>\n",
       "      <td>0.239314</td>\n",
       "      <td>0.242482</td>\n",
       "      <td>20018.0</td>\n",
       "      <td>20084.0</td>\n",
       "      <td>20227.0</td>\n",
       "    </tr>\n",
       "  </tbody>\n",
       "</table>\n",
       "</div>"
      ],
      "text/plain": [
       "      id   failure       lr0       lr1       lr2    rank0    rank1    rank2\n",
       "0  26570   9014.85  0.208906  0.208996  0.208252   8721.0   8715.0   8248.0\n",
       "1  26571   4998.65  0.201129  0.201224  0.201619   4711.0   4685.0   4889.0\n",
       "2  26572   7067.90  0.204884  0.204971  0.206438   6523.0   6500.0   7256.0\n",
       "3  26573   7376.15  0.206612  0.206694  0.203775   7457.0   7431.0   5949.0\n",
       "4  26574  21084.90  0.239220  0.239314  0.242482  20018.0  20084.0  20227.0"
      ]
     },
     "execution_count": 73,
     "metadata": {},
     "output_type": "execute_result"
    }
   ],
   "source": [
    "submission.head()"
   ]
  },
  {
   "cell_type": "code",
   "execution_count": 74,
   "id": "dd9d621c",
   "metadata": {
    "execution": {
     "iopub.execute_input": "2022-09-01T00:06:06.590854Z",
     "iopub.status.busy": "2022-09-01T00:06:06.590379Z",
     "iopub.status.idle": "2022-09-01T00:06:06.637458Z",
     "shell.execute_reply": "2022-09-01T00:06:06.636245Z"
    },
    "papermill": {
     "duration": 0.061575,
     "end_time": "2022-09-01T00:06:06.640254",
     "exception": false,
     "start_time": "2022-09-01T00:06:06.578679",
     "status": "completed"
    },
    "tags": []
   },
   "outputs": [],
   "source": [
    "submission[['id', 'failure']].to_csv('submission.csv', index=False)"
   ]
  }
 ],
 "metadata": {
  "kernelspec": {
   "display_name": "Python 3",
   "language": "python",
   "name": "python3"
  },
  "language_info": {
   "codemirror_mode": {
    "name": "ipython",
    "version": 3
   },
   "file_extension": ".py",
   "mimetype": "text/x-python",
   "name": "python",
   "nbconvert_exporter": "python",
   "pygments_lexer": "ipython3",
   "version": "3.10.4"
  },
  "papermill": {
   "default_parameters": {},
   "duration": 30.268216,
   "end_time": "2022-09-01T00:06:07.473414",
   "environment_variables": {},
   "exception": null,
   "input_path": "__notebook__.ipynb",
   "output_path": "__notebook__.ipynb",
   "parameters": {},
   "start_time": "2022-09-01T00:05:37.205198",
   "version": "2.3.4"
  },
  "vscode": {
   "interpreter": {
    "hash": "a763a93a8f2993cc81e6428675a59e097ba44a36ba79ea75ff1d40c79f29b6b9"
   }
  }
 },
 "nbformat": 4,
 "nbformat_minor": 5
}
